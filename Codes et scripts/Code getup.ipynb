{
 "cells": [
  {
   "cell_type": "code",
   "execution_count": null,
   "metadata": {
    "collapsed": true
   },
   "outputs": [],
   "source": [
    "#angle des moteur pour le faire ce relever debut\n",
    "robot.m12.goto_position(95,4)\n",
    "robot.m32.goto_position(-70,6)\n",
    "robot.m21.goto_position(-20,4)\n",
    "robot.m41.goto_position(-20,4)\n",
    "robot.m11.goto_position(20,4)\n",
    "robot.m31.goto_position(20,4)"
   ]
  },
  {
   "cell_type": "code",
   "execution_count": null,
   "metadata": {
    "collapsed": true
   },
   "outputs": [],
   "source": [
    "robot.m22.goto_position(100,4)\n",
    "robot.m42.goto_position(-80,6)\n",
    "robot.m31.goto_position(60,4)\n",
    "robot.m11.goto_position(60,4)"
   ]
  },
  {
   "cell_type": "code",
   "execution_count": null,
   "metadata": {
    "collapsed": true
   },
   "outputs": [],
   "source": [
    "robot.m11.goto_position(-10,0.5)\n",
    "robot.m31.goto_position(-10,0.5)"
   ]
  },
  {
   "cell_type": "code",
   "execution_count": null,
   "metadata": {
    "collapsed": true
   },
   "outputs": [],
   "source": [
    "robot.m21.goto_position(90,4)\n",
    "robot.m41.goto_position(90,4)\n",
    "robot.m22.goto_position(0,2)\n",
    "robot.m42.goto_position(0,2)"
   ]
  },
  {
   "cell_type": "code",
   "execution_count": null,
   "metadata": {
    "collapsed": true
   },
   "outputs": [],
   "source": [
    "robot.m12.goto_position(0,2)\n",
    "robot.m32.goto_position(0,2)"
   ]
  },
  {
   "cell_type": "code",
   "execution_count": null,
   "metadata": {
    "collapsed": true
   },
   "outputs": [],
   "source": [
    "robot.m21.goto_position(0,4)\n",
    "robot.m41.goto_position(0,4)"
   ]
  },
  {
   "cell_type": "code",
   "execution_count": null,
   "metadata": {
    "collapsed": true
   },
   "outputs": [],
   "source": [
    "robot.m11.goto_position(0,2)\n",
    "robot.m31.goto_position(0,2)"
   ]
  }
 ],
 "metadata": {
  "kernelspec": {
   "display_name": "Python 3",
   "language": "python",
   "name": "python3"
  },
  "language_info": {
   "codemirror_mode": {
    "name": "ipython",
    "version": 3
   },
   "file_extension": ".py",
   "mimetype": "text/x-python",
   "name": "python",
   "nbconvert_exporter": "python",
   "pygments_lexer": "ipython3",
   "version": "3.6.1"
  }
 },
 "nbformat": 4,
 "nbformat_minor": 2
}
