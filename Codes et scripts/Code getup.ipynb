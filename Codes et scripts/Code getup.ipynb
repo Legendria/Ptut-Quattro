{
 "cells": [
  {
   "cell_type": "code",
   "execution_count": 1,
   "metadata": {
    "collapsed": true
   },
   "outputs": [],
   "source": [
    "from roboticia_quattro import RoboticiaQuattro\n"
    "import time\n"
    "import pypot.robot\n"
   ]
  },
  {
   "cell_type": "code",
   "execution_count": 2,
   "metadata": {
    "collapsed": true
   },
   "outputs": [],
   "source": [
    "pypot.vrep.close_all_connections()\n"
   ]
  },
  {
   "cell_type": "code",
   "execution_count": 3,
   "metadata": {},
   "outputs": [],
   "source": [
    "robot = RoboticiaQuattro(simulator = 'vrep', host = '127.0.0.1')"
   ]
  },
  {
   "cell_type": "code",
   "execution_count": 14,
   "metadata": {
    "collapsed": true
   },
   "outputs": [],
   "source": [
    "robot.reset_simulation()"
   ]
  },
  {
   "cell_type": "code",
   "execution_count": null,
   "metadata": {
    "collapsed": true
   },
   "outputs": [],
   "source": [
    "robot.sensors"
   ]
  },
  {
   "cell_type": "code",
   "execution_count": null,
   "metadata": {
    "collapsed": true
   },
   "outputs": [],
   "source": [
    "robot.motors"
   ]
  },
  {
   "cell_type": "code",
   "execution_count": 18,
   "metadata": {
    "collapsed": true
   },
   "outputs": [],
   "source": [
    "#position sur le sol avec pied tendu\n",
    "robot.m11.goto_position(0,4)\n",
    "robot.m12.goto_position(-20,4)\n",
    "robot.m13.goto_position(20,4)\n",
    "robot.m21.goto_position(0,4)\n",
    "robot.m22.goto_position(-20,4)\n",
    "robot.m23.goto_position(20,4)\n",
    "robot.m31.goto_position(-0,4)\n",
    "robot.m32.goto_position(20,4)\n",
    "robot.m33.goto_position(-20,4)\n",
    "robot.m41.goto_position(-0,4)\n",
    "robot.m42.goto_position(20,4)\n",
    "robot.m43.goto_position(-20,4)"
   ]
  },
  {
   "cell_type": "code",
   "execution_count": null,
   "metadata": {
    "collapsed": true
   },
   "outputs": [],
   "source": [
    "robot.sensors"
   ]
  },
  {
   "cell_type": "code",
   "execution_count": 15,
   "metadata": {
    "collapsed": true
   },
   "outputs": [],
   "source": [
    "#angle des moteur pour le faire ce relever debut\n",
    "#et le mettre au sol pour le simutaleur\n",
    "robot.m12.goto_position(95,4)\n",
    "robot.m32.goto_position(-70,6)\n",
    "robot.m21.goto_position(-20,4)\n",
    "robot.m41.goto_position(-20,4)\n",
    "robot.m11.goto_position(20,4)\n",
    "robot.m31.goto_position(20,4)"
   ]
  },
  {
   "cell_type": "code",
   "execution_count": 5,
   "metadata": {},
   "outputs": [
    {
     "data": {
      "text/plain": [
       "[<ForceSensor name=f1 force = 40.43380618095398>,\n",
       " <ForceSensor name=f2 force = 15.860556066036224>,\n",
       " <ForceSensor name=f3 force = 18.014216423034668>,\n",
       " <ForceSensor name=f4 force = 39.5128458738327>]"
      ]
     },
     "execution_count": 5,
     "metadata": {},
     "output_type": "execute_result"
    }
   ],
   "source": [
    "robot.sensors"
   ]
  },
  {
   "cell_type": "code",
   "execution_count": null,
   "metadata": {
    "collapsed": true
   },
   "outputs": [],
   "source": [
    "robot.m22.goto_position(100,4)\n",
    "robot.m42.goto_position(-80,6)\n",
    "robot.m31.goto_position(60,4)\n",
    "robot.m11.goto_position(60,4)"
   ]
  },
  {
   "cell_type": "code",
   "execution_count": null,
   "metadata": {
    "collapsed": true
   },
   "outputs": [],
   "source": [
    "robot.m21.goto_position(90,4)\n",
    "robot.m41.goto_position(90,4)\n",
    "robot.m22.goto_position(0,2)\n",
    "robot.m42.goto_position(0,2)"
   ]
  },
  {
   "cell_type": "code",
   "execution_count": null,
   "metadata": {
    "collapsed": true
   },
   "outputs": [],
   "source": [
    "robot.m11.goto_position(-10,0.5)\n",
    "robot.m31.goto_position(-10,0.5)"
   ]
  },
  {
   "cell_type": "code",
   "execution_count": null,
   "metadata": {
    "collapsed": true
   },
   "outputs": [],
   "source": [
    "robot.m12.goto_position(0,2)\n",
    "robot.m32.goto_position(0,2)"
   ]
  },
  {
   "cell_type": "code",
   "execution_count": null,
   "metadata": {
    "collapsed": true
   },
   "outputs": [],
   "source": [
    "robot.m21.goto_position(0,4)\n",
    "robot.m41.goto_position(0,4)"
   ]
  },
  {
   "cell_type": "code",
   "execution_count": null,
   "metadata": {
    "collapsed": true
   },
   "outputs": [],
   "source": [
    "robot.m11.goto_position(0,2)\n",
    "robot.m31.goto_position(0,2)"
   ]
  },
  {
   "cell_type": "code",
   "execution_count": null,
   "metadata": {
    "collapsed": true
   },
   "outputs": [],
   "source": [
    "boolean = True\n",
    "while boolean: #boucle infinit pour que le robot marche\n",
    "    if robot.f1.force <20 and robot.f2.force <20 and robot.f3.force <20 and robot.f4.force <20:\n",
    "        \n",
    "        robot.m12.goto_position(95,4)\n",
    "        robot.m32.goto_position(-70,6)\n",
    "        robot.m21.goto_position(-20,4)\n",
    "        robot.m41.goto_position(-20,4)\n",
    "        robot.m11.goto_position(20,4)\n",
    "        robot.m31.goto_position(20,4)\n",
    "        print(10)\n",
    "        time.sleep(1.0)\n",
    "        \n",
    "    if robot.m12.present_position == 95 and robot.m32.present_position==-70:\n",
    "        robot.m22.goto_position(100,2)\n",
    "        robot.m42.goto_position(-80,4)\n",
    "        robot.m31.goto_position(60,2)\n",
    "        robot.m11.goto_position(60,2)\n",
    "        print(20)\n",
    "        time.sleep(1.0)\n",
    "    \n",
    "    if robot.m22.present_position == 100 and robot.m42.present_position == -80:\n",
    "        robot.m21.goto_position(90,4)\n",
    "        robot.m41.goto_position(90,4)\n",
    "        robot.m22.goto_position(0,2)\n",
    "        robot.m42.goto_position(0,2)\n",
    "        print(30)\n",
    "        time.sleep(1.0)\n",
    "    \n",
    "    if robot.m21.present_position == 90 and robot.m41.present_position == 90:\n",
    "        robot.m11.goto_position(-10,0.5)\n",
    "        robot.m31.goto_position(-10,0.5)\n",
    "        print(40)\n",
    "        time.sleep(1.0)\n",
    "        \n",
    "    if robot.m11.present_position >= -10 and robot.m11.present_position <= -8 and robot.m31.present_position >= -10 and robot.m31.present_position <= -8 :\n",
    "        robot.m12.goto_position(0,2)\n",
    "        robot.m32.goto_position(0,2)\n",
    "        print(50)\n",
    "        time.sleep(1.0)\n",
    "    \n",
    "    if robot.m12.present_position == 0 and robot.m32.present_position == 0:\n",
    "        robot.m21.goto_position(0,4)\n",
    "        robot.m41.goto_position(0,4)\n",
    "        print(60)\n",
    "        time.sleep(1.0)\n",
    "    \n",
    "    if robot.m21.present_position == 0 and robot.m41.present_position == 0:\n",
    "        robot.m11.goto_position(0,2)\n",
    "        robot.m31.goto_position(0,2)\n",
    "        print(70)\n",
    "        boolean = False"
   ]
  },
  {
   "cell_type": "code",
   "execution_count": null,
   "metadata": {
    "collapsed": true
   },
   "outputs": [],
   "source": [
    "robot.m12.present_position"
   ]
  },
  {
   "cell_type": "code",
   "execution_count": null,
   "metadata": {
    "collapsed": true
   },
   "outputs": [],
   "source": [
    "robot.m32.present_position"
   ]
  },
  {
   "cell_type": "code",
   "execution_count": 19,
   "metadata": {},
   "outputs": [
    {
     "name": "stdout",
     "output_type": "stream",
     "text": [
      "10\n",
      "20\n",
      "30\n",
      "40\n",
      "50\n",
      "60\n",
      "70\n"
     ]
    }
   ],
   "source": [
    "boolean = True\n",
    "while boolean: #boucle infinit pour que le robot marche\n",
    "    if robot.f1.force <20 and robot.f2.force <20 and robot.f3.force <20 and robot.f4.force <20:\n",
    "     #if il tombe d'un coté ça marche que d'un coté   \n",
    "        robot.m12.goto_position(95,4)\n",
    "        robot.m32.goto_position(-70,6)\n",
    "        robot.m21.goto_position(-20,4)\n",
    "        robot.m41.goto_position(-20,4)\n",
    "        robot.m11.goto_position(20,4)\n",
    "        robot.m31.goto_position(20,4)\n",
    "        print(10)\n",
    "        time.sleep(6.0)\n",
    "        \n",
    "        if robot.m12.present_position == 95 and robot.m32.present_position==-70:\n",
    "            robot.m22.goto_position(100,2)\n",
    "            robot.m42.goto_position(-80,4)\n",
    "            robot.m31.goto_position(60,2)\n",
    "            robot.m11.goto_position(60,2)\n",
    "            print(20)\n",
    "            time.sleep(4.0)\n",
    "\n",
    "        if robot.m22.present_position == 100 and robot.m42.present_position == -80:\n",
    "            robot.m21.goto_position(90,4)\n",
    "            robot.m41.goto_position(90,4)\n",
    "            robot.m22.goto_position(0,2)\n",
    "            robot.m42.goto_position(0,2)\n",
    "            print(30)\n",
    "            time.sleep(4.0)\n",
    "\n",
    "        if robot.m21.present_position == 90 and robot.m41.present_position == 90:\n",
    "            robot.m11.goto_position(-10,0.5)\n",
    "            robot.m31.goto_position(-10,0.5)\n",
    "            print(40)\n",
    "            time.sleep(1.0)\n",
    "\n",
    "        if robot.m11.present_position >= -10 and robot.m11.present_position <= -8 and robot.m31.present_position >= -10 and robot.m31.present_position <= -8 :\n",
    "            robot.m12.goto_position(0,2)\n",
    "            robot.m32.goto_position(0,2)\n",
    "            print(50)\n",
    "            time.sleep(3.0)\n",
    "\n",
    "        if robot.m12.present_position == 0 and robot.m32.present_position == 0:\n",
    "            robot.m21.goto_position(0,4)\n",
    "            robot.m41.goto_position(0,4)\n",
    "            print(60)\n",
    "            time.sleep(4.0)\n",
    "\n",
    "        if robot.m21.present_position == 0 and robot.m41.present_position == 0:\n",
    "            robot.m11.goto_position(0,2)\n",
    "            robot.m31.goto_position(0,2)\n",
    "            print(70)\n",
    "            boolean = False"
   ]
  },
  {
   "cell_type": "code",
   "execution_count": null,
   "metadata": {
    "collapsed": true
   },
   "outputs": [],
   "source": []
  }
 ],
 "metadata": {
  "kernelspec": {
   "display_name": "Python 3",
   "language": "python",
   "name": "python3"
  },
  "language_info": {
   "codemirror_mode": {
    "name": "ipython",
    "version": 3
   },
   "file_extension": ".py",
   "mimetype": "text/x-python",
   "name": "python",
   "nbconvert_exporter": "python",
   "pygments_lexer": "ipython3",
   "version": "3.6.1"
  }
 },
 "nbformat": 4,
 "nbformat_minor": 2
}
